{
 "cells": [
  {
   "cell_type": "markdown",
   "id": "779ac162-1185-4c16-9546-5ed9c5fd4b12",
   "metadata": {
    "tags": []
   },
   "source": [
    "# Data Science Tools and Ecosystem"
   ]
  },
  {
   "cell_type": "markdown",
   "id": "4a176f2e-be82-4a18-94f0-279277dbba17",
   "metadata": {
    "tags": []
   },
   "source": [
    "This is a notebook of Data Science Tools and Ecosystems, summarized"
   ]
  },
  {
   "cell_type": "markdown",
   "id": "9c41bdf4-8833-4fe6-99b6-031b8bd6d181",
   "metadata": {},
   "source": [
    "# **Objectives:**"
   ]
  },
  {
   "cell_type": "markdown",
   "id": "2eb47ec7-059d-4bf6-8245-5130c1d9a76d",
   "metadata": {},
   "source": [
    "- List popular languages for data science\n",
    "- list common libraries\n",
    "- table tools\n",
    "- Use math expressions\n"
   ]
  },
  {
   "cell_type": "markdown",
   "id": "a7bba417-deaa-4cd0-b074-572c9b619278",
   "metadata": {},
   "source": [
    "Some of the more popular languages that data scientist use are:"
   ]
  },
  {
   "cell_type": "markdown",
   "id": "201b650b-e62b-4b55-ae49-7653b384ee93",
   "metadata": {},
   "source": [
    "1. Python \n",
    "2. R \n",
    "3. Java \n",
    "4. Julia"
   ]
  },
  {
   "cell_type": "markdown",
   "id": "6439a919-a5ea-4f1d-af43-026f894d73fb",
   "metadata": {},
   "source": [
    "Commonly used Libraries used by data scientists are:"
   ]
  },
  {
   "cell_type": "markdown",
   "id": "6915ee31-aee4-4211-bd66-c9f3f3a4d0a3",
   "metadata": {},
   "source": [
    "1. Numpy\n",
    "2. Panddas\n",
    "3. Matplotlib\n",
    "4. TensorFlow"
   ]
  },
  {
   "cell_type": "markdown",
   "id": "5e965d6f-cd8e-41ae-ae92-e069ae66b69a",
   "metadata": {},
   "source": [
    "|Data Science Tools|\n",
    "|------------------|\n",
    "|Spyder|\n",
    "|PyCharm|\n",
    "|RStudio|\n",
    "|TensorFlow|\n"
   ]
  },
  {
   "cell_type": "markdown",
   "id": "e2c74267-2262-4871-a2a6-e58847c112b0",
   "metadata": {},
   "source": [
    "### Below are a few examples of Arithmetic expressions used in python"
   ]
  },
  {
   "cell_type": "code",
   "execution_count": 4,
   "id": "474cb776-3d20-4e73-9e0e-604937583f0d",
   "metadata": {
    "tags": []
   },
   "outputs": [],
   "source": [
    "#This is a simple expression do muliply then do addition"
   ]
  },
  {
   "cell_type": "code",
   "execution_count": 2,
   "id": "e6d792be-0ff8-4f12-bfc9-c91408a193bc",
   "metadata": {
    "tags": []
   },
   "outputs": [
    {
     "data": {
      "text/plain": [
       "17"
      ]
     },
     "execution_count": 2,
     "metadata": {},
     "output_type": "execute_result"
    }
   ],
   "source": [
    "(3*4)+5"
   ]
  },
  {
   "cell_type": "code",
   "execution_count": null,
   "id": "f44ac931-7db3-4771-b6ad-9eb816f584bd",
   "metadata": {},
   "outputs": [],
   "source": [
    "#This will convert 200 minutes into hours by dividing by 60"
   ]
  },
  {
   "cell_type": "code",
   "execution_count": 8,
   "id": "b80f27f7-15a5-41d6-93ea-94e6ee37758b",
   "metadata": {
    "tags": []
   },
   "outputs": [
    {
     "name": "stdout",
     "output_type": "stream",
     "text": [
      "3.3333333333333335 Hours\n"
     ]
    }
   ],
   "source": [
    "Hours = 200/60\n",
    "print (Hours, \"Hours\")"
   ]
  },
  {
   "cell_type": "markdown",
   "id": "62c79a52-d5d2-4b3f-9e23-7e98bab058c8",
   "metadata": {},
   "source": [
    "## Auther\n",
    "Damon Desjardins"
   ]
  },
  {
   "cell_type": "code",
   "execution_count": null,
   "id": "d9df2332-3723-42e6-bf1b-7f86c4aa8bd0",
   "metadata": {},
   "outputs": [],
   "source": []
  }
 ],
 "metadata": {
  "kernelspec": {
   "display_name": "Python",
   "language": "python",
   "name": "conda-env-python-py"
  },
  "language_info": {
   "codemirror_mode": {
    "name": "ipython",
    "version": 3
   },
   "file_extension": ".py",
   "mimetype": "text/x-python",
   "name": "python",
   "nbconvert_exporter": "python",
   "pygments_lexer": "ipython3",
   "version": "3.7.12"
  }
 },
 "nbformat": 4,
 "nbformat_minor": 5
}
